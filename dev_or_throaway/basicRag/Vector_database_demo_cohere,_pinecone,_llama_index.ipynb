{
  "cells": [
    {
      "cell_type": "code",
      "execution_count": 1,
      "metadata": {
        "colab": {
          "base_uri": "https://localhost:8080/"
        },
        "collapsed": true,
        "id": "KtuUc5LZ1YTD",
        "outputId": "930270ff-7600-4c4b-9ac9-b488df4a78ec"
      },
      "outputs": [
        {
          "name": "stdout",
          "output_type": "stream",
          "text": [
            "Requirement already satisfied: pymupdf in ./RagDemo/venv/lib/python3.10/site-packages (1.26.1)\n",
            "Requirement already satisfied: llama-index-vector-stores-pinecone in ./RagDemo/venv/lib/python3.10/site-packages (0.5.0)\n",
            "Requirement already satisfied: llama-index-core<0.13,>=0.12.0 in ./RagDemo/venv/lib/python3.10/site-packages (from llama-index-vector-stores-pinecone) (0.12.43)\n",
            "Requirement already satisfied: pinecone<8.0.0,>=7.0.0 in ./RagDemo/venv/lib/python3.10/site-packages (from llama-index-vector-stores-pinecone) (7.2.0)\n",
            "Requirement already satisfied: aiohttp<4,>=3.8.6 in ./RagDemo/venv/lib/python3.10/site-packages (from llama-index-core<0.13,>=0.12.0->llama-index-vector-stores-pinecone) (3.12.13)\n",
            "Requirement already satisfied: aiosqlite in ./RagDemo/venv/lib/python3.10/site-packages (from llama-index-core<0.13,>=0.12.0->llama-index-vector-stores-pinecone) (0.21.0)\n",
            "Requirement already satisfied: banks<3,>=2.0.0 in ./RagDemo/venv/lib/python3.10/site-packages (from llama-index-core<0.13,>=0.12.0->llama-index-vector-stores-pinecone) (2.1.2)\n",
            "Requirement already satisfied: dataclasses-json in ./RagDemo/venv/lib/python3.10/site-packages (from llama-index-core<0.13,>=0.12.0->llama-index-vector-stores-pinecone) (0.6.7)\n",
            "Requirement already satisfied: deprecated>=1.2.9.3 in ./RagDemo/venv/lib/python3.10/site-packages (from llama-index-core<0.13,>=0.12.0->llama-index-vector-stores-pinecone) (1.2.18)\n",
            "Requirement already satisfied: dirtyjson<2,>=1.0.8 in ./RagDemo/venv/lib/python3.10/site-packages (from llama-index-core<0.13,>=0.12.0->llama-index-vector-stores-pinecone) (1.0.8)\n",
            "Requirement already satisfied: filetype<2,>=1.2.0 in ./RagDemo/venv/lib/python3.10/site-packages (from llama-index-core<0.13,>=0.12.0->llama-index-vector-stores-pinecone) (1.2.0)\n",
            "Requirement already satisfied: fsspec>=2023.5.0 in ./RagDemo/venv/lib/python3.10/site-packages (from llama-index-core<0.13,>=0.12.0->llama-index-vector-stores-pinecone) (2025.5.1)\n",
            "Requirement already satisfied: httpx in ./RagDemo/venv/lib/python3.10/site-packages (from llama-index-core<0.13,>=0.12.0->llama-index-vector-stores-pinecone) (0.28.1)\n",
            "Requirement already satisfied: llama-index-workflows>=0.2.1 in ./RagDemo/venv/lib/python3.10/site-packages (from llama-index-core<0.13,>=0.12.0->llama-index-vector-stores-pinecone) (0.2.2)\n",
            "Requirement already satisfied: nest-asyncio<2,>=1.5.8 in ./RagDemo/venv/lib/python3.10/site-packages (from llama-index-core<0.13,>=0.12.0->llama-index-vector-stores-pinecone) (1.6.0)\n",
            "Requirement already satisfied: networkx>=3.0 in ./RagDemo/venv/lib/python3.10/site-packages (from llama-index-core<0.13,>=0.12.0->llama-index-vector-stores-pinecone) (3.4.2)\n",
            "Requirement already satisfied: nltk>3.8.1 in ./RagDemo/venv/lib/python3.10/site-packages (from llama-index-core<0.13,>=0.12.0->llama-index-vector-stores-pinecone) (3.9.1)\n",
            "Requirement already satisfied: numpy in ./RagDemo/venv/lib/python3.10/site-packages (from llama-index-core<0.13,>=0.12.0->llama-index-vector-stores-pinecone) (2.2.6)\n",
            "Requirement already satisfied: pillow>=9.0.0 in ./RagDemo/venv/lib/python3.10/site-packages (from llama-index-core<0.13,>=0.12.0->llama-index-vector-stores-pinecone) (11.2.1)\n",
            "Requirement already satisfied: pydantic>=2.8.0 in ./RagDemo/venv/lib/python3.10/site-packages (from llama-index-core<0.13,>=0.12.0->llama-index-vector-stores-pinecone) (2.11.7)\n",
            "Requirement already satisfied: pyyaml>=6.0.1 in ./RagDemo/venv/lib/python3.10/site-packages (from llama-index-core<0.13,>=0.12.0->llama-index-vector-stores-pinecone) (6.0.2)\n",
            "Requirement already satisfied: requests>=2.31.0 in ./RagDemo/venv/lib/python3.10/site-packages (from llama-index-core<0.13,>=0.12.0->llama-index-vector-stores-pinecone) (2.32.4)\n",
            "Requirement already satisfied: setuptools>=80.9.0 in ./RagDemo/venv/lib/python3.10/site-packages (from llama-index-core<0.13,>=0.12.0->llama-index-vector-stores-pinecone) (80.9.0)\n",
            "Requirement already satisfied: sqlalchemy>=1.4.49 in ./RagDemo/venv/lib/python3.10/site-packages (from sqlalchemy[asyncio]>=1.4.49->llama-index-core<0.13,>=0.12.0->llama-index-vector-stores-pinecone) (2.0.41)\n",
            "Requirement already satisfied: tenacity!=8.4.0,<10.0.0,>=8.2.0 in ./RagDemo/venv/lib/python3.10/site-packages (from llama-index-core<0.13,>=0.12.0->llama-index-vector-stores-pinecone) (9.1.2)\n",
            "Requirement already satisfied: tiktoken>=0.7.0 in ./RagDemo/venv/lib/python3.10/site-packages (from llama-index-core<0.13,>=0.12.0->llama-index-vector-stores-pinecone) (0.9.0)\n",
            "Requirement already satisfied: tqdm<5,>=4.66.1 in ./RagDemo/venv/lib/python3.10/site-packages (from llama-index-core<0.13,>=0.12.0->llama-index-vector-stores-pinecone) (4.67.1)\n",
            "Requirement already satisfied: typing-extensions>=4.5.0 in ./RagDemo/venv/lib/python3.10/site-packages (from llama-index-core<0.13,>=0.12.0->llama-index-vector-stores-pinecone) (4.14.0)\n",
            "Requirement already satisfied: typing-inspect>=0.8.0 in ./RagDemo/venv/lib/python3.10/site-packages (from llama-index-core<0.13,>=0.12.0->llama-index-vector-stores-pinecone) (0.9.0)\n",
            "Requirement already satisfied: wrapt in ./RagDemo/venv/lib/python3.10/site-packages (from llama-index-core<0.13,>=0.12.0->llama-index-vector-stores-pinecone) (1.17.2)\n",
            "Requirement already satisfied: aiohappyeyeballs>=2.5.0 in ./RagDemo/venv/lib/python3.10/site-packages (from aiohttp<4,>=3.8.6->llama-index-core<0.13,>=0.12.0->llama-index-vector-stores-pinecone) (2.6.1)\n",
            "Requirement already satisfied: aiosignal>=1.1.2 in ./RagDemo/venv/lib/python3.10/site-packages (from aiohttp<4,>=3.8.6->llama-index-core<0.13,>=0.12.0->llama-index-vector-stores-pinecone) (1.3.2)\n",
            "Requirement already satisfied: async-timeout<6.0,>=4.0 in ./RagDemo/venv/lib/python3.10/site-packages (from aiohttp<4,>=3.8.6->llama-index-core<0.13,>=0.12.0->llama-index-vector-stores-pinecone) (5.0.1)\n",
            "Requirement already satisfied: attrs>=17.3.0 in ./RagDemo/venv/lib/python3.10/site-packages (from aiohttp<4,>=3.8.6->llama-index-core<0.13,>=0.12.0->llama-index-vector-stores-pinecone) (25.3.0)\n",
            "Requirement already satisfied: frozenlist>=1.1.1 in ./RagDemo/venv/lib/python3.10/site-packages (from aiohttp<4,>=3.8.6->llama-index-core<0.13,>=0.12.0->llama-index-vector-stores-pinecone) (1.7.0)\n",
            "Requirement already satisfied: multidict<7.0,>=4.5 in ./RagDemo/venv/lib/python3.10/site-packages (from aiohttp<4,>=3.8.6->llama-index-core<0.13,>=0.12.0->llama-index-vector-stores-pinecone) (6.5.0)\n",
            "Requirement already satisfied: propcache>=0.2.0 in ./RagDemo/venv/lib/python3.10/site-packages (from aiohttp<4,>=3.8.6->llama-index-core<0.13,>=0.12.0->llama-index-vector-stores-pinecone) (0.3.2)\n",
            "Requirement already satisfied: yarl<2.0,>=1.17.0 in ./RagDemo/venv/lib/python3.10/site-packages (from aiohttp<4,>=3.8.6->llama-index-core<0.13,>=0.12.0->llama-index-vector-stores-pinecone) (1.20.1)\n",
            "Requirement already satisfied: griffe in ./RagDemo/venv/lib/python3.10/site-packages (from banks<3,>=2.0.0->llama-index-core<0.13,>=0.12.0->llama-index-vector-stores-pinecone) (1.7.3)\n",
            "Requirement already satisfied: jinja2 in ./RagDemo/venv/lib/python3.10/site-packages (from banks<3,>=2.0.0->llama-index-core<0.13,>=0.12.0->llama-index-vector-stores-pinecone) (3.1.6)\n",
            "Requirement already satisfied: platformdirs in ./RagDemo/venv/lib/python3.10/site-packages (from banks<3,>=2.0.0->llama-index-core<0.13,>=0.12.0->llama-index-vector-stores-pinecone) (4.3.8)\n",
            "Requirement already satisfied: certifi>=2019.11.17 in ./RagDemo/venv/lib/python3.10/site-packages (from pinecone<8.0.0,>=7.0.0->llama-index-vector-stores-pinecone) (2025.6.15)\n",
            "Requirement already satisfied: pinecone-plugin-assistant<2.0.0,>=1.6.0 in ./RagDemo/venv/lib/python3.10/site-packages (from pinecone<8.0.0,>=7.0.0->llama-index-vector-stores-pinecone) (1.7.0)\n",
            "Requirement already satisfied: pinecone-plugin-interface<0.0.8,>=0.0.7 in ./RagDemo/venv/lib/python3.10/site-packages (from pinecone<8.0.0,>=7.0.0->llama-index-vector-stores-pinecone) (0.0.7)\n",
            "Requirement already satisfied: python-dateutil>=2.5.3 in ./RagDemo/venv/lib/python3.10/site-packages (from pinecone<8.0.0,>=7.0.0->llama-index-vector-stores-pinecone) (2.9.0.post0)\n",
            "Requirement already satisfied: urllib3>=1.26.0 in ./RagDemo/venv/lib/python3.10/site-packages (from pinecone<8.0.0,>=7.0.0->llama-index-vector-stores-pinecone) (2.5.0)\n",
            "Requirement already satisfied: packaging<25.0,>=24.2 in ./RagDemo/venv/lib/python3.10/site-packages (from pinecone-plugin-assistant<2.0.0,>=1.6.0->pinecone<8.0.0,>=7.0.0->llama-index-vector-stores-pinecone) (24.2)\n",
            "Requirement already satisfied: charset_normalizer<4,>=2 in ./RagDemo/venv/lib/python3.10/site-packages (from requests>=2.31.0->llama-index-core<0.13,>=0.12.0->llama-index-vector-stores-pinecone) (3.4.2)\n",
            "Requirement already satisfied: idna<4,>=2.5 in ./RagDemo/venv/lib/python3.10/site-packages (from requests>=2.31.0->llama-index-core<0.13,>=0.12.0->llama-index-vector-stores-pinecone) (3.10)\n",
            "Requirement already satisfied: llama-index-instrumentation>=0.1.0 in ./RagDemo/venv/lib/python3.10/site-packages (from llama-index-workflows>=0.2.1->llama-index-core<0.13,>=0.12.0->llama-index-vector-stores-pinecone) (0.2.0)\n",
            "Requirement already satisfied: click in ./RagDemo/venv/lib/python3.10/site-packages (from nltk>3.8.1->llama-index-core<0.13,>=0.12.0->llama-index-vector-stores-pinecone) (8.2.1)\n",
            "Requirement already satisfied: joblib in ./RagDemo/venv/lib/python3.10/site-packages (from nltk>3.8.1->llama-index-core<0.13,>=0.12.0->llama-index-vector-stores-pinecone) (1.5.1)\n",
            "Requirement already satisfied: regex>=2021.8.3 in ./RagDemo/venv/lib/python3.10/site-packages (from nltk>3.8.1->llama-index-core<0.13,>=0.12.0->llama-index-vector-stores-pinecone) (2024.11.6)\n",
            "Requirement already satisfied: annotated-types>=0.6.0 in ./RagDemo/venv/lib/python3.10/site-packages (from pydantic>=2.8.0->llama-index-core<0.13,>=0.12.0->llama-index-vector-stores-pinecone) (0.7.0)\n",
            "Requirement already satisfied: pydantic-core==2.33.2 in ./RagDemo/venv/lib/python3.10/site-packages (from pydantic>=2.8.0->llama-index-core<0.13,>=0.12.0->llama-index-vector-stores-pinecone) (2.33.2)\n",
            "Requirement already satisfied: typing-inspection>=0.4.0 in ./RagDemo/venv/lib/python3.10/site-packages (from pydantic>=2.8.0->llama-index-core<0.13,>=0.12.0->llama-index-vector-stores-pinecone) (0.4.1)\n",
            "Requirement already satisfied: six>=1.5 in ./RagDemo/venv/lib/python3.10/site-packages (from python-dateutil>=2.5.3->pinecone<8.0.0,>=7.0.0->llama-index-vector-stores-pinecone) (1.17.0)\n",
            "Requirement already satisfied: greenlet>=1 in ./RagDemo/venv/lib/python3.10/site-packages (from sqlalchemy>=1.4.49->sqlalchemy[asyncio]>=1.4.49->llama-index-core<0.13,>=0.12.0->llama-index-vector-stores-pinecone) (3.2.3)\n",
            "Requirement already satisfied: mypy-extensions>=0.3.0 in ./RagDemo/venv/lib/python3.10/site-packages (from typing-inspect>=0.8.0->llama-index-core<0.13,>=0.12.0->llama-index-vector-stores-pinecone) (1.1.0)\n",
            "Requirement already satisfied: marshmallow<4.0.0,>=3.18.0 in ./RagDemo/venv/lib/python3.10/site-packages (from dataclasses-json->llama-index-core<0.13,>=0.12.0->llama-index-vector-stores-pinecone) (3.26.1)\n",
            "Requirement already satisfied: colorama>=0.4 in ./RagDemo/venv/lib/python3.10/site-packages (from griffe->banks<3,>=2.0.0->llama-index-core<0.13,>=0.12.0->llama-index-vector-stores-pinecone) (0.4.6)\n",
            "Requirement already satisfied: anyio in ./RagDemo/venv/lib/python3.10/site-packages (from httpx->llama-index-core<0.13,>=0.12.0->llama-index-vector-stores-pinecone) (4.9.0)\n",
            "Requirement already satisfied: httpcore==1.* in ./RagDemo/venv/lib/python3.10/site-packages (from httpx->llama-index-core<0.13,>=0.12.0->llama-index-vector-stores-pinecone) (1.0.9)\n",
            "Requirement already satisfied: h11>=0.16 in ./RagDemo/venv/lib/python3.10/site-packages (from httpcore==1.*->httpx->llama-index-core<0.13,>=0.12.0->llama-index-vector-stores-pinecone) (0.16.0)\n",
            "Requirement already satisfied: exceptiongroup>=1.0.2 in ./RagDemo/venv/lib/python3.10/site-packages (from anyio->httpx->llama-index-core<0.13,>=0.12.0->llama-index-vector-stores-pinecone) (1.3.0)\n",
            "Requirement already satisfied: sniffio>=1.1 in ./RagDemo/venv/lib/python3.10/site-packages (from anyio->httpx->llama-index-core<0.13,>=0.12.0->llama-index-vector-stores-pinecone) (1.3.1)\n",
            "Requirement already satisfied: MarkupSafe>=2.0 in ./RagDemo/venv/lib/python3.10/site-packages (from jinja2->banks<3,>=2.0.0->llama-index-core<0.13,>=0.12.0->llama-index-vector-stores-pinecone) (3.0.2)\n",
            "Note: you may need to restart the kernel to use updated packages.\n",
            "Requirement already satisfied: llama-index-embeddings-cohere in ./RagDemo/venv/lib/python3.10/site-packages (0.5.1)\n",
            "Requirement already satisfied: cohere<6,>=5.15 in ./RagDemo/venv/lib/python3.10/site-packages (from llama-index-embeddings-cohere) (5.15.0)\n",
            "Requirement already satisfied: llama-index-core<0.13,>=0.12.0 in ./RagDemo/venv/lib/python3.10/site-packages (from llama-index-embeddings-cohere) (0.12.43)\n",
            "Requirement already satisfied: fastavro<2.0.0,>=1.9.4 in ./RagDemo/venv/lib/python3.10/site-packages (from cohere<6,>=5.15->llama-index-embeddings-cohere) (1.11.1)\n",
            "Requirement already satisfied: httpx>=0.21.2 in ./RagDemo/venv/lib/python3.10/site-packages (from cohere<6,>=5.15->llama-index-embeddings-cohere) (0.28.1)\n",
            "Requirement already satisfied: httpx-sse==0.4.0 in ./RagDemo/venv/lib/python3.10/site-packages (from cohere<6,>=5.15->llama-index-embeddings-cohere) (0.4.0)\n",
            "Requirement already satisfied: pydantic>=1.9.2 in ./RagDemo/venv/lib/python3.10/site-packages (from cohere<6,>=5.15->llama-index-embeddings-cohere) (2.11.7)\n",
            "Requirement already satisfied: pydantic-core<3.0.0,>=2.18.2 in ./RagDemo/venv/lib/python3.10/site-packages (from cohere<6,>=5.15->llama-index-embeddings-cohere) (2.33.2)\n",
            "Requirement already satisfied: requests<3.0.0,>=2.0.0 in ./RagDemo/venv/lib/python3.10/site-packages (from cohere<6,>=5.15->llama-index-embeddings-cohere) (2.32.4)\n",
            "Requirement already satisfied: tokenizers<1,>=0.15 in ./RagDemo/venv/lib/python3.10/site-packages (from cohere<6,>=5.15->llama-index-embeddings-cohere) (0.21.1)\n",
            "Requirement already satisfied: types-requests<3.0.0,>=2.0.0 in ./RagDemo/venv/lib/python3.10/site-packages (from cohere<6,>=5.15->llama-index-embeddings-cohere) (2.32.4.20250611)\n",
            "Requirement already satisfied: typing_extensions>=4.0.0 in ./RagDemo/venv/lib/python3.10/site-packages (from cohere<6,>=5.15->llama-index-embeddings-cohere) (4.14.0)\n",
            "Requirement already satisfied: aiohttp<4,>=3.8.6 in ./RagDemo/venv/lib/python3.10/site-packages (from llama-index-core<0.13,>=0.12.0->llama-index-embeddings-cohere) (3.12.13)\n",
            "Requirement already satisfied: aiosqlite in ./RagDemo/venv/lib/python3.10/site-packages (from llama-index-core<0.13,>=0.12.0->llama-index-embeddings-cohere) (0.21.0)\n",
            "Requirement already satisfied: banks<3,>=2.0.0 in ./RagDemo/venv/lib/python3.10/site-packages (from llama-index-core<0.13,>=0.12.0->llama-index-embeddings-cohere) (2.1.2)\n",
            "Requirement already satisfied: dataclasses-json in ./RagDemo/venv/lib/python3.10/site-packages (from llama-index-core<0.13,>=0.12.0->llama-index-embeddings-cohere) (0.6.7)\n",
            "Requirement already satisfied: deprecated>=1.2.9.3 in ./RagDemo/venv/lib/python3.10/site-packages (from llama-index-core<0.13,>=0.12.0->llama-index-embeddings-cohere) (1.2.18)\n",
            "Requirement already satisfied: dirtyjson<2,>=1.0.8 in ./RagDemo/venv/lib/python3.10/site-packages (from llama-index-core<0.13,>=0.12.0->llama-index-embeddings-cohere) (1.0.8)\n",
            "Requirement already satisfied: filetype<2,>=1.2.0 in ./RagDemo/venv/lib/python3.10/site-packages (from llama-index-core<0.13,>=0.12.0->llama-index-embeddings-cohere) (1.2.0)\n",
            "Requirement already satisfied: fsspec>=2023.5.0 in ./RagDemo/venv/lib/python3.10/site-packages (from llama-index-core<0.13,>=0.12.0->llama-index-embeddings-cohere) (2025.5.1)\n",
            "Requirement already satisfied: llama-index-workflows>=0.2.1 in ./RagDemo/venv/lib/python3.10/site-packages (from llama-index-core<0.13,>=0.12.0->llama-index-embeddings-cohere) (0.2.2)\n",
            "Requirement already satisfied: nest-asyncio<2,>=1.5.8 in ./RagDemo/venv/lib/python3.10/site-packages (from llama-index-core<0.13,>=0.12.0->llama-index-embeddings-cohere) (1.6.0)\n",
            "Requirement already satisfied: networkx>=3.0 in ./RagDemo/venv/lib/python3.10/site-packages (from llama-index-core<0.13,>=0.12.0->llama-index-embeddings-cohere) (3.4.2)\n",
            "Requirement already satisfied: nltk>3.8.1 in ./RagDemo/venv/lib/python3.10/site-packages (from llama-index-core<0.13,>=0.12.0->llama-index-embeddings-cohere) (3.9.1)\n",
            "Requirement already satisfied: numpy in ./RagDemo/venv/lib/python3.10/site-packages (from llama-index-core<0.13,>=0.12.0->llama-index-embeddings-cohere) (2.2.6)\n",
            "Requirement already satisfied: pillow>=9.0.0 in ./RagDemo/venv/lib/python3.10/site-packages (from llama-index-core<0.13,>=0.12.0->llama-index-embeddings-cohere) (11.2.1)\n",
            "Requirement already satisfied: pyyaml>=6.0.1 in ./RagDemo/venv/lib/python3.10/site-packages (from llama-index-core<0.13,>=0.12.0->llama-index-embeddings-cohere) (6.0.2)\n",
            "Requirement already satisfied: setuptools>=80.9.0 in ./RagDemo/venv/lib/python3.10/site-packages (from llama-index-core<0.13,>=0.12.0->llama-index-embeddings-cohere) (80.9.0)\n",
            "Requirement already satisfied: sqlalchemy>=1.4.49 in ./RagDemo/venv/lib/python3.10/site-packages (from sqlalchemy[asyncio]>=1.4.49->llama-index-core<0.13,>=0.12.0->llama-index-embeddings-cohere) (2.0.41)\n",
            "Requirement already satisfied: tenacity!=8.4.0,<10.0.0,>=8.2.0 in ./RagDemo/venv/lib/python3.10/site-packages (from llama-index-core<0.13,>=0.12.0->llama-index-embeddings-cohere) (9.1.2)\n",
            "Requirement already satisfied: tiktoken>=0.7.0 in ./RagDemo/venv/lib/python3.10/site-packages (from llama-index-core<0.13,>=0.12.0->llama-index-embeddings-cohere) (0.9.0)\n",
            "Requirement already satisfied: tqdm<5,>=4.66.1 in ./RagDemo/venv/lib/python3.10/site-packages (from llama-index-core<0.13,>=0.12.0->llama-index-embeddings-cohere) (4.67.1)\n",
            "Requirement already satisfied: typing-inspect>=0.8.0 in ./RagDemo/venv/lib/python3.10/site-packages (from llama-index-core<0.13,>=0.12.0->llama-index-embeddings-cohere) (0.9.0)\n",
            "Requirement already satisfied: wrapt in ./RagDemo/venv/lib/python3.10/site-packages (from llama-index-core<0.13,>=0.12.0->llama-index-embeddings-cohere) (1.17.2)\n",
            "Requirement already satisfied: aiohappyeyeballs>=2.5.0 in ./RagDemo/venv/lib/python3.10/site-packages (from aiohttp<4,>=3.8.6->llama-index-core<0.13,>=0.12.0->llama-index-embeddings-cohere) (2.6.1)\n",
            "Requirement already satisfied: aiosignal>=1.1.2 in ./RagDemo/venv/lib/python3.10/site-packages (from aiohttp<4,>=3.8.6->llama-index-core<0.13,>=0.12.0->llama-index-embeddings-cohere) (1.3.2)\n",
            "Requirement already satisfied: async-timeout<6.0,>=4.0 in ./RagDemo/venv/lib/python3.10/site-packages (from aiohttp<4,>=3.8.6->llama-index-core<0.13,>=0.12.0->llama-index-embeddings-cohere) (5.0.1)\n",
            "Requirement already satisfied: attrs>=17.3.0 in ./RagDemo/venv/lib/python3.10/site-packages (from aiohttp<4,>=3.8.6->llama-index-core<0.13,>=0.12.0->llama-index-embeddings-cohere) (25.3.0)\n",
            "Requirement already satisfied: frozenlist>=1.1.1 in ./RagDemo/venv/lib/python3.10/site-packages (from aiohttp<4,>=3.8.6->llama-index-core<0.13,>=0.12.0->llama-index-embeddings-cohere) (1.7.0)\n",
            "Requirement already satisfied: multidict<7.0,>=4.5 in ./RagDemo/venv/lib/python3.10/site-packages (from aiohttp<4,>=3.8.6->llama-index-core<0.13,>=0.12.0->llama-index-embeddings-cohere) (6.5.0)\n",
            "Requirement already satisfied: propcache>=0.2.0 in ./RagDemo/venv/lib/python3.10/site-packages (from aiohttp<4,>=3.8.6->llama-index-core<0.13,>=0.12.0->llama-index-embeddings-cohere) (0.3.2)\n",
            "Requirement already satisfied: yarl<2.0,>=1.17.0 in ./RagDemo/venv/lib/python3.10/site-packages (from aiohttp<4,>=3.8.6->llama-index-core<0.13,>=0.12.0->llama-index-embeddings-cohere) (1.20.1)\n",
            "Requirement already satisfied: griffe in ./RagDemo/venv/lib/python3.10/site-packages (from banks<3,>=2.0.0->llama-index-core<0.13,>=0.12.0->llama-index-embeddings-cohere) (1.7.3)\n",
            "Requirement already satisfied: jinja2 in ./RagDemo/venv/lib/python3.10/site-packages (from banks<3,>=2.0.0->llama-index-core<0.13,>=0.12.0->llama-index-embeddings-cohere) (3.1.6)\n",
            "Requirement already satisfied: platformdirs in ./RagDemo/venv/lib/python3.10/site-packages (from banks<3,>=2.0.0->llama-index-core<0.13,>=0.12.0->llama-index-embeddings-cohere) (4.3.8)\n",
            "Requirement already satisfied: charset_normalizer<4,>=2 in ./RagDemo/venv/lib/python3.10/site-packages (from requests<3.0.0,>=2.0.0->cohere<6,>=5.15->llama-index-embeddings-cohere) (3.4.2)\n",
            "Requirement already satisfied: idna<4,>=2.5 in ./RagDemo/venv/lib/python3.10/site-packages (from requests<3.0.0,>=2.0.0->cohere<6,>=5.15->llama-index-embeddings-cohere) (3.10)\n",
            "Requirement already satisfied: urllib3<3,>=1.21.1 in ./RagDemo/venv/lib/python3.10/site-packages (from requests<3.0.0,>=2.0.0->cohere<6,>=5.15->llama-index-embeddings-cohere) (2.5.0)\n",
            "Requirement already satisfied: certifi>=2017.4.17 in ./RagDemo/venv/lib/python3.10/site-packages (from requests<3.0.0,>=2.0.0->cohere<6,>=5.15->llama-index-embeddings-cohere) (2025.6.15)\n",
            "Requirement already satisfied: huggingface-hub<1.0,>=0.16.4 in ./RagDemo/venv/lib/python3.10/site-packages (from tokenizers<1,>=0.15->cohere<6,>=5.15->llama-index-embeddings-cohere) (0.33.0)\n",
            "Requirement already satisfied: filelock in ./RagDemo/venv/lib/python3.10/site-packages (from huggingface-hub<1.0,>=0.16.4->tokenizers<1,>=0.15->cohere<6,>=5.15->llama-index-embeddings-cohere) (3.18.0)\n",
            "Requirement already satisfied: packaging>=20.9 in ./RagDemo/venv/lib/python3.10/site-packages (from huggingface-hub<1.0,>=0.16.4->tokenizers<1,>=0.15->cohere<6,>=5.15->llama-index-embeddings-cohere) (24.2)\n",
            "Requirement already satisfied: hf-xet<2.0.0,>=1.1.2 in ./RagDemo/venv/lib/python3.10/site-packages (from huggingface-hub<1.0,>=0.16.4->tokenizers<1,>=0.15->cohere<6,>=5.15->llama-index-embeddings-cohere) (1.1.5)\n",
            "Requirement already satisfied: anyio in ./RagDemo/venv/lib/python3.10/site-packages (from httpx>=0.21.2->cohere<6,>=5.15->llama-index-embeddings-cohere) (4.9.0)\n",
            "Requirement already satisfied: httpcore==1.* in ./RagDemo/venv/lib/python3.10/site-packages (from httpx>=0.21.2->cohere<6,>=5.15->llama-index-embeddings-cohere) (1.0.9)\n",
            "Requirement already satisfied: h11>=0.16 in ./RagDemo/venv/lib/python3.10/site-packages (from httpcore==1.*->httpx>=0.21.2->cohere<6,>=5.15->llama-index-embeddings-cohere) (0.16.0)\n",
            "Requirement already satisfied: llama-index-instrumentation>=0.1.0 in ./RagDemo/venv/lib/python3.10/site-packages (from llama-index-workflows>=0.2.1->llama-index-core<0.13,>=0.12.0->llama-index-embeddings-cohere) (0.2.0)\n",
            "Requirement already satisfied: click in ./RagDemo/venv/lib/python3.10/site-packages (from nltk>3.8.1->llama-index-core<0.13,>=0.12.0->llama-index-embeddings-cohere) (8.2.1)\n",
            "Requirement already satisfied: joblib in ./RagDemo/venv/lib/python3.10/site-packages (from nltk>3.8.1->llama-index-core<0.13,>=0.12.0->llama-index-embeddings-cohere) (1.5.1)\n",
            "Requirement already satisfied: regex>=2021.8.3 in ./RagDemo/venv/lib/python3.10/site-packages (from nltk>3.8.1->llama-index-core<0.13,>=0.12.0->llama-index-embeddings-cohere) (2024.11.6)\n",
            "Requirement already satisfied: annotated-types>=0.6.0 in ./RagDemo/venv/lib/python3.10/site-packages (from pydantic>=1.9.2->cohere<6,>=5.15->llama-index-embeddings-cohere) (0.7.0)\n",
            "Requirement already satisfied: typing-inspection>=0.4.0 in ./RagDemo/venv/lib/python3.10/site-packages (from pydantic>=1.9.2->cohere<6,>=5.15->llama-index-embeddings-cohere) (0.4.1)\n",
            "Requirement already satisfied: greenlet>=1 in ./RagDemo/venv/lib/python3.10/site-packages (from sqlalchemy>=1.4.49->sqlalchemy[asyncio]>=1.4.49->llama-index-core<0.13,>=0.12.0->llama-index-embeddings-cohere) (3.2.3)\n",
            "Requirement already satisfied: mypy-extensions>=0.3.0 in ./RagDemo/venv/lib/python3.10/site-packages (from typing-inspect>=0.8.0->llama-index-core<0.13,>=0.12.0->llama-index-embeddings-cohere) (1.1.0)\n",
            "Requirement already satisfied: exceptiongroup>=1.0.2 in ./RagDemo/venv/lib/python3.10/site-packages (from anyio->httpx>=0.21.2->cohere<6,>=5.15->llama-index-embeddings-cohere) (1.3.0)\n",
            "Requirement already satisfied: sniffio>=1.1 in ./RagDemo/venv/lib/python3.10/site-packages (from anyio->httpx>=0.21.2->cohere<6,>=5.15->llama-index-embeddings-cohere) (1.3.1)\n",
            "Requirement already satisfied: marshmallow<4.0.0,>=3.18.0 in ./RagDemo/venv/lib/python3.10/site-packages (from dataclasses-json->llama-index-core<0.13,>=0.12.0->llama-index-embeddings-cohere) (3.26.1)\n",
            "Requirement already satisfied: colorama>=0.4 in ./RagDemo/venv/lib/python3.10/site-packages (from griffe->banks<3,>=2.0.0->llama-index-core<0.13,>=0.12.0->llama-index-embeddings-cohere) (0.4.6)\n",
            "Requirement already satisfied: MarkupSafe>=2.0 in ./RagDemo/venv/lib/python3.10/site-packages (from jinja2->banks<3,>=2.0.0->llama-index-core<0.13,>=0.12.0->llama-index-embeddings-cohere) (3.0.2)\n",
            "Note: you may need to restart the kernel to use updated packages.\n"
          ]
        }
      ],
      "source": [
        "!pip install llama-index>=0.9.31 pinecone-client>=3.0.0\n",
        "!pip install pymupdf\n",
        "%pip install llama-index-vector-stores-pinecone\n",
        "%pip install llama-index-embeddings-cohere"
      ]
    },
    {
      "cell_type": "code",
      "execution_count": null,
      "metadata": {},
      "outputs": [
        {
          "ename": "",
          "evalue": "",
          "output_type": "error",
          "traceback": [
            "\u001b[1;31mRunning cells with '.venv' requires the ipykernel package.\n",
            "\u001b[1;31mRun the following command to install 'ipykernel' into the Python environment. \n",
            "\u001b[1;31mCommand: '/home/tomas/rag-cli/.venv/bin/python -m pip install ipykernel -U --force-reinstall'"
          ]
        }
      ],
      "source": []
    },
    {
      "cell_type": "code",
      "execution_count": 2,
      "metadata": {
        "id": "DuP9BBQb1dNV"
      },
      "outputs": [],
      "source": [
        "import pandas as pd\n",
        "import os\n",
        "import fitz\n",
        "\n",
        "from llama_index.core import Document, VectorStoreIndex, SimpleDirectoryReader\n",
        "from llama_index.embeddings.cohere import CohereEmbedding\n",
        "from llama_index.core.node_parser import SentenceSplitter\n",
        "\n",
        "from pinecone import Pinecone, ServerlessSpec"
      ]
    },
    {
      "attachments": {},
      "cell_type": "markdown",
      "metadata": {
        "id": "brqFQ7IO7AEP"
      },
      "source": [
        "links to get your api keys:\n",
        "\n",
        "https://www.pinecone.io/\n",
        "\n",
        "https://dashboard.cohere.com/"
      ]
    },
    {
      "cell_type": "code",
      "execution_count": 3,
      "metadata": {
        "id": "QBGogh4w0qGy"
      },
      "outputs": [],
      "source": [
        "# https://dashboard.cohere.com/\n",
        "cohere_api_key = \"....\"\n",
        "\n",
        "# svuj vlastni ziskate na https://app.pinecone.io/\n",
        "pinecone_api_key = \"..\"\n",
        "\n",
        "os.environ[\"COHERE_API_KEY\"] = cohere_api_key\n",
        "os.environ[\"PINECONE_API_KEY\"] = pinecone_api_key\n"
      ]
    },
    {
      "cell_type": "code",
      "execution_count": 4,
      "metadata": {
        "colab": {
          "base_uri": "https://localhost:8080/"
        },
        "id": "cRLSLS4X2ZkP",
        "outputId": "73b9efa8-72b4-4ea1-818a-1d5b551914b3"
      },
      "outputs": [
        {
          "data": {
            "text/plain": [
              "1024"
            ]
          },
          "execution_count": 4,
          "metadata": {},
          "output_type": "execute_result"
        }
      ],
      "source": [
        "# with input_typ='search_query'\n",
        "model = CohereEmbedding(\n",
        "    api_key=cohere_api_key,\n",
        "    model_name=\"embed-english-v3.0\"\n",
        ")\n",
        "\n",
        "embeddings = model.get_text_embedding(\"Hello CohereAI!\")\n",
        "len(embeddings)"
      ]
    },
    {
      "cell_type": "code",
      "execution_count": 5,
      "metadata": {
        "id": "7qeKmpgEAnqd"
      },
      "outputs": [],
      "source": [
        "pdf_names = [\n",
        "             \"Studijni-a-zkusebni-rad-Vysoke-skoly-ekonomicke-v-Praze_5.pdf\"\n",
        "             ]"
      ]
    },
    {
      "cell_type": "code",
      "execution_count": 6,
      "metadata": {},
      "outputs": [
        {
          "data": {
            "text/plain": [
              "<module 'fitz' from '/home/tomas/pythonProjects/Projects/basicRag/RagDemo/venv/lib/python3.10/site-packages/fitz/__init__.py'>"
            ]
          },
          "execution_count": 6,
          "metadata": {},
          "output_type": "execute_result"
        }
      ],
      "source": [
        "fitz"
      ]
    },
    {
      "cell_type": "code",
      "execution_count": 8,
      "metadata": {
        "colab": {
          "base_uri": "https://localhost:8080/",
          "height": 52
        },
        "id": "0KlWu9IC2j1d",
        "outputId": "4e876fd7-fb01-41b5-93b0-a17201997536"
      },
      "outputs": [
        {
          "data": {
            "text/plain": [
              "' \\n \\nStudijní a zkušební řád Vysoké školy \\nekonomické v Praze \\nplatný předpis \\nMinisterstvo školství,'"
            ]
          },
          "execution_count": 8,
          "metadata": {},
          "output_type": "execute_result"
        }
      ],
      "source": [
        "pdf_texts = []\n",
        "\n",
        "for name in pdf_names:\n",
        "    with fitz.open(name) as doc:\n",
        "        text = \"\"\n",
        "        for page in doc:\n",
        "            text += page.get_text()\n",
        "        pdf_texts.append(text)\n",
        "\n",
        "pdf_texts[0][:100]"
      ]
    },
    {
      "cell_type": "code",
      "execution_count": 9,
      "metadata": {
        "colab": {
          "base_uri": "https://localhost:8080/"
        },
        "id": "TmP5xz083n_D",
        "outputId": "b42f2bc1-8e18-4391-a25b-2188f15c4931"
      },
      "outputs": [
        {
          "name": "stdout",
          "output_type": "stream",
          "text": [
            "363\n",
            "Node ID: 274fdde2-f1ce-45dc-b9b0-e1b20569df33\n",
            "Text: Studijní a zkušební řád Vysoké školy  ekonomické v Praze  platný\n",
            "předpis  Ministerstvo školství, mládeže a tělovýchovy registrovalo\n",
            "podle § 36 odst. 2 zákona č. 111/1998  Sb., o vysokých školách a o\n",
            "změně a doplnění dalších zákonů (zákon o vysokých školách), dne  18.\n",
            "července 2017 pod čj. MSMT-19508/2017 Studijní a zkušební řád Vysoké\n",
            "školy ekon...\n"
          ]
        }
      ],
      "source": [
        "# Create nodes from a document\n",
        "documents = [Document(text=t) for t in pdf_texts]\n",
        "\n",
        "parser = SentenceSplitter(chunk_size=256)\n",
        "nodes = parser.get_nodes_from_documents(documents)\n",
        "print(len(nodes))\n",
        "print(nodes[0])"
      ]
    },
    {
      "attachments": {},
      "cell_type": "markdown",
      "metadata": {
        "id": "DaZyb2lf5NF7"
      },
      "source": [
        "# Create a new pinecone index"
      ]
    },
    {
      "cell_type": "code",
      "execution_count": 10,
      "metadata": {
        "id": "uwukaJ4S5Q42"
      },
      "outputs": [
        {
          "name": "stderr",
          "output_type": "stream",
          "text": [
            "/home/tomas/pythonProjects/Projects/basicRag/RagDemo/venv/lib/python3.10/site-packages/tqdm/auto.py:21: TqdmWarning: IProgress not found. Please update jupyter and ipywidgets. See https://ipywidgets.readthedocs.io/en/stable/user_install.html\n",
            "  from .autonotebook import tqdm as notebook_tqdm\n"
          ]
        }
      ],
      "source": [
        "from llama_index.core import VectorStoreIndex, StorageContext\n",
        "from llama_index.core import Settings\n",
        "from llama_index.vector_stores.pinecone import PineconeVectorStore"
      ]
    },
    {
      "cell_type": "code",
      "execution_count": 11,
      "metadata": {
        "colab": {
          "base_uri": "https://localhost:8080/"
        },
        "collapsed": true,
        "id": "25ikh9xd4q-g",
        "outputId": "3d423e14-417b-4abc-f405-598d15326101"
      },
      "outputs": [
        {
          "data": {
            "text/plain": [
              "_Settings(_llm=None, _embed_model=CohereEmbedding(model_name='embed-english-v3.0', embed_batch_size=10, callback_manager=<llama_index.core.callbacks.base.CallbackManager object at 0x7f23509fb4f0>, num_workers=None, embeddings_cache=None, api_key='TsccYDkDvnchJTGB6ppuIpGLbkWE3cJZcXtbfa5f', base_url=None, truncate='END', input_type=None, embedding_type='float'), _callback_manager=<llama_index.core.callbacks.base.CallbackManager object at 0x7f23509fb4f0>, _tokenizer=None, _node_parser=None, _prompt_helper=None, _transformations=None)"
            ]
          },
          "execution_count": 11,
          "metadata": {},
          "output_type": "execute_result"
        }
      ],
      "source": [
        "Settings.embed_model = model\n",
        "Settings"
      ]
    },
    {
      "cell_type": "code",
      "execution_count": 12,
      "metadata": {
        "colab": {
          "base_uri": "https://localhost:8080/"
        },
        "collapsed": true,
        "id": "VzvDeNrP5SrE",
        "outputId": "71b39993-1d8a-4ecb-de40-f07507d00058"
      },
      "outputs": [
        {
          "data": {
            "text/plain": [
              "{\n",
              "    \"name\": \"rag-demo\",\n",
              "    \"metric\": \"cosine\",\n",
              "    \"host\": \"rag-demo-94ury7a.svc.aped-4627-b74a.pinecone.io\",\n",
              "    \"spec\": {\n",
              "        \"serverless\": {\n",
              "            \"cloud\": \"aws\",\n",
              "            \"region\": \"us-east-1\"\n",
              "        }\n",
              "    },\n",
              "    \"status\": {\n",
              "        \"ready\": true,\n",
              "        \"state\": \"Ready\"\n",
              "    },\n",
              "    \"vector_type\": \"dense\",\n",
              "    \"dimension\": 1024,\n",
              "    \"deletion_protection\": \"disabled\",\n",
              "    \"tags\": null\n",
              "}"
            ]
          },
          "execution_count": 12,
          "metadata": {},
          "output_type": "execute_result"
        }
      ],
      "source": [
        "pc = Pinecone(api_key=pinecone_api_key)\n",
        "new_index_name = \"rag-demo\"\n",
        "pc.create_index(\n",
        "    name=new_index_name,\n",
        "    dimension=1024,\n",
        "    metric=\"cosine\",\n",
        "    spec=ServerlessSpec(cloud=\"aws\", region=\"us-east-1\"),\n",
        ")"
      ]
    },
    {
      "cell_type": "code",
      "execution_count": 13,
      "metadata": {
        "colab": {
          "base_uri": "https://localhost:8080/"
        },
        "id": "enELj40S561W",
        "outputId": "7d351fc4-7e36-4755-c20f-174b95650b4c"
      },
      "outputs": [
        {
          "data": {
            "text/plain": [
              "{'dimension': 1024,\n",
              " 'index_fullness': 0.0,\n",
              " 'metric': 'cosine',\n",
              " 'namespaces': {},\n",
              " 'total_vector_count': 0,\n",
              " 'vector_type': 'dense'}"
            ]
          },
          "execution_count": 13,
          "metadata": {},
          "output_type": "execute_result"
        }
      ],
      "source": [
        "pinecone_index = pc.Index(new_index_name)\n",
        "pinecone_index.describe_index_stats()"
      ]
    },
    {
      "cell_type": "code",
      "execution_count": 14,
      "metadata": {
        "colab": {
          "base_uri": "https://localhost:8080/",
          "height": 425
        },
        "id": "J_vX7RxC52N0",
        "outputId": "0d3d723c-9080-445e-cfeb-00b700b80eb3"
      },
      "outputs": [
        {
          "name": "stderr",
          "output_type": "stream",
          "text": [
            "Upserted vectors: 100%|██████████| 363/363 [00:03<00:00, 109.89it/s]\n"
          ]
        }
      ],
      "source": [
        "pinecone_vector_store = PineconeVectorStore(pinecone_index=pinecone_index)\n",
        "storage_context = StorageContext.from_defaults(vector_store=pinecone_vector_store)\n",
        "index = VectorStoreIndex(\n",
        "    nodes, storage_context=storage_context\n",
        ")"
      ]
    },
    {
      "attachments": {},
      "cell_type": "markdown",
      "metadata": {
        "id": "aBuQizu76C1Q"
      },
      "source": [
        "# Let's query our vector database!"
      ]
    },
    {
      "cell_type": "code",
      "execution_count": 15,
      "metadata": {
        "id": "fGE5ok9a6HUL"
      },
      "outputs": [],
      "source": [
        "vector_store = PineconeVectorStore(pinecone_index=pc.Index(new_index_name))\n",
        "retriever = VectorStoreIndex.from_vector_store(vector_store).as_retriever(similarity_top_k=5)"
      ]
    },
    {
      "cell_type": "code",
      "execution_count": null,
      "metadata": {
        "collapsed": true,
        "id": "DULiSodI6Txf"
      },
      "outputs": [
        {
          "name": "stdout",
          "output_type": "stream",
          "text": [
            "1. Text: Opakování se může \n",
            "konat nejdříve za čtyři měsíce ode dne neúspěšné obhajoby a to podle podmínek čl. 27. \n",
            "12. O průběhu obhajoby disertační práce je veden protokol, v němž je uveden název \n",
            "doktorského studijního programu, jména zúčastněných členů komise pro obhajobu \n",
            "disertační práce a oponentů, dále všechny závažné skutečnosti při obhajobě. V závěru \n",
            "protokolu je zapsán výsledek hlasování. Protokol podepisuje předseda komise, \n",
            "v případě jeho neúčasti zástupce předsedy.\n",
            "   Similarity: 0.4469\n",
            "\n",
            "2. Text: Opakování dílčích částí státní závěrečné zkoušky s výjimkou obhajoby \n",
            "závěrečné práce je možné nejdříve 1 měsíc ode dne neúspěšného konání zkoušky. \n",
            "Opakování obhajoby (pokud je dílčí částí státní závěrečné zkoušky), je možné nejdříve \n",
            "3 měsíce ode dne neúspěšného konání zkoušky. Zkušební komise může doporučit \n",
            "způsob, rozsah a formu přepracování závěrečné práce. Student může k opakované \n",
            "obhajobě předložit stejnou nebo upravenou práci, nebo při dodržení postupu podle čl.\n",
            "   Similarity: 0.4376\n",
            "\n",
            "3. Text: Opakování obhajoby (pokud je dílčí částí státní závěrečné zkoušky), je možné nejdříve \n",
            "3 měsíce ode dne neúspěšného konání zkoušky. Zkušební komise může doporučit \n",
            "způsob, rozsah a formu přepracování závěrečné práce. Student může k opakované \n",
            "obhajobě předložit stejnou nebo upravenou práci, nebo při dodržení postupu podle čl. \n",
            "17 zpracovat a předložit práci novou. \n",
            "Článek 16 \n",
            "Části státní závěrečné zkoušky a podmínky pro její skládání \n",
            "1.\n",
            "   Similarity: 0.4329\n",
            "\n",
            "4. Text: Opakování obhajoby (je-li samostatnou částí státní \n",
            "závěrečné zkoušky) je možné nejdříve 3 měsíce ode dne neúspěšného konání zkoušky. \n",
            "Zkušební komise může doporučit způsob, rozsah a formu přepracování závěrečné \n",
            "práce. Student může k opakované obhajobě předložit stejnou nebo upravenou práci, \n",
            "nebo při dodržení postupu podle čl. 17 zpracovat a předložit práci novou. \n",
            "Článek 16 \n",
            "Části státní závěrečné zkoušky a podmínky pro její skládání \n",
            "1.\n",
            "   Similarity: 0.4309\n",
            "\n",
            "5. Text: Cílem malé obhajoby je zhodnotit, zda disertační práce \n",
            "splňuje požadavky kladené zákonem na tyto práce včetně kontroly originality \n",
            "předložené práce. Vedoucí katedry si může k tomu účelu vyžádat posouzení práce \n",
            "dalšími odborníky. \n",
            "3. Z malé obhajoby je pořizován zápis s uvedením závěru, zda je práce doporučena \n",
            "k obhajobě, nebo k přepracování a opětovnému předložení k malé obhajobě. Zápis \n",
            "předává vedoucí katedry bezodkladně děkanovi. Přílohou zápisu je protokol \n",
            "o výsledcích kontroly originality předložené práce.\n",
            "   Similarity: 0.4307\n",
            "\n"
          ]
        }
      ],
      "source": [
        "response = retriever.retrieve(\"Kdy mohu opakovat státní zkoušku?\")\n",
        "\n",
        "for i, result in enumerate(response):\n",
        "    print(f\"{i+1}. Text: {result.node.text}\")\n",
        "    print(f\"   Similarity: {result.score:.4f}\\n\")\n",
        "\n",
        "\n",
        "### TO UDELA RETRIEVAL\n"
      ]
    },
    {
      "cell_type": "code",
      "execution_count": null,
      "metadata": {
        "id": "oXmUhbKVMosw"
      },
      "outputs": [],
      "source": [
        "# do posledni bunky:\n",
        "# GPT PROMPT:\n",
        "\n",
        "\n",
        "# Based on this code, use a free model from Hugging face to generate a response based on the retrieval step\n",
        "# response = retriever.retrieve(\"Jak ziskam stipendium\")\n",
        "\n",
        "# for i, result in enumerate(response):\n",
        "#     print(f\"{i+1}. Text: {result.node.text}\")\n",
        "#     print(f\"   Similarity: {result.score:.4f}\\n\")\n",
        "\n"
      ]
    }
  ],
  "metadata": {
    "colab": {
      "provenance": []
    },
    "kernelspec": {
      "display_name": "venv",
      "language": "python",
      "name": "python3"
    },
    "language_info": {
      "codemirror_mode": {
        "name": "ipython",
        "version": 3
      },
      "file_extension": ".py",
      "mimetype": "text/x-python",
      "name": "python",
      "nbconvert_exporter": "python",
      "pygments_lexer": "ipython3",
      "version": "3.10.13"
    }
  },
  "nbformat": 4,
  "nbformat_minor": 0
}
